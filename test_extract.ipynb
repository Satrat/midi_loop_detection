{
 "cells": [
  {
   "cell_type": "code",
   "execution_count": null,
   "metadata": {},
   "outputs": [],
   "source": [
    "import pretty_midi\n",
    "from corr_mat import *\n",
    "from track import Track\n",
    "import os\n",
    "from tqdm import tqdm"
   ]
  },
  {
   "cell_type": "code",
   "execution_count": null,
   "metadata": {},
   "outputs": [],
   "source": [
    "test_file = \"./test_midi.mid\"\n",
    "pm = pretty_midi.PrettyMIDI(test_file)"
   ]
  },
  {
   "cell_type": "code",
   "execution_count": null,
   "metadata": {},
   "outputs": [],
   "source": [
    "final_loops = []\n",
    "for instrument in pm.instruments:\n",
    "    track = Track(pm, instrument)\n",
    "    note_list = track.notes\n",
    "    lead_mat, lead_dur = calc_correlation(note_list)\n",
    "    loops, loop_endpoints = get_valid_loops(track, lead_mat, lead_dur)\n",
    "    print(f\"found {len(loops)} loops in {instrument}\")\n",
    "    if len(loop_endpoints) > 0:\n",
    "        print(loop_endpoints)\n",
    "    for loop in loops:\n",
    "        final_loops.append(loop)\n",
    "print(f\"{len(final_loops)} total loops in {len(pm.instruments)} tracks\")"
   ]
  },
  {
   "cell_type": "code",
   "execution_count": null,
   "metadata": {},
   "outputs": [],
   "source": [
    "directory = \"/Users/sadkins/Downloads/Final_GigaMIDI_TISMIR/Test-10%/GigaMIDI-Test-Drum+Music-MD5\"\n",
    "\n",
    "def get_num_loops(pm):\n",
    "    total_loops = 0\n",
    "    for instrument in pm.instruments:\n",
    "        track = Track(pm, instrument)\n",
    "        note_list = track.notes\n",
    "        lead_mat, lead_dur = calc_correlation(note_list)\n",
    "        loops, loop_endpoints = get_valid_loops(track, lead_mat, lead_dur)\n",
    "        total_loops += len(loop_endpoints)\n",
    "    return total_loops, len(pm.instruments)"
   ]
  },
  {
   "cell_type": "code",
   "execution_count": 6,
   "metadata": {},
   "outputs": [],
   "source": [
    "total_loops = 0\n",
    "total_tracks = 0\n",
    "num_files = 500\n",
    "for file in tqdm(os.listdir(directory)[:num_files]):\n",
    "    full_path = os.path.join(directory, file)\n",
    "    pm = pretty_midi.PrettyMIDI(full_path)\n",
    "    num_loops, num_tracks = get_num_loops(pm)\n",
    "    total_loops += num_loops\n",
    "    total_tracks += num_tracks\n",
    "total_loops = 0\n",
    "total_tracks = 0\n",
    "num_files = 500\n",
    "for file in tqdm(os.listdir(directory)[:num_files]):\n",
    "    full_path = os.path.join(directory, file)\n",
    "    pm = pretty_midi.PrettyMIDI(full_path)\n",
    "    num_loops, num_tracks = get_num_loops(pm)\n",
    "    total_loops += num_loops\n",
    "    total_tracks += num_tracks\n",
    "print(f\"Found {total_loops} loops in {num_tracks} tracks across {num_files} files\")"
   ]
  },
  {
   "cell_type": "code",
   "execution_count": null,
   "metadata": {},
   "outputs": [],
   "source": []
  },
  {
   "cell_type": "code",
   "execution_count": null,
   "metadata": {},
   "outputs": [],
   "source": []
  }
 ],
 "metadata": {
  "kernelspec": {
   "display_name": ".venv",
   "language": "python",
   "name": "python3"
  },
  "language_info": {
   "codemirror_mode": {
    "name": "ipython",
    "version": 3
   },
   "file_extension": ".py",
   "mimetype": "text/x-python",
   "name": "python",
   "nbconvert_exporter": "python",
   "pygments_lexer": "ipython3",
   "version": "3.10.10"
  }
 },
 "nbformat": 4,
 "nbformat_minor": 2
}
